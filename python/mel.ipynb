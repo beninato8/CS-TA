{
 "cells": [
  {
   "cell_type": "markdown",
   "metadata": {},
   "source": [
    "# Problem 1: Triangle"
   ]
  },
  {
   "cell_type": "markdown",
   "metadata": {},
   "source": [
    "<table><tr>\n",
    "<td> <img src=\"triangle.jpg\" alt=\"Drawing\" style=\"width: 500px;\"/> </td>\n",
    "<td> <img src=\"triangle-code.jpg\" alt=\"Drawing\" style=\"width: 500px;\"/> </td>\n",
    "</tr>\n",
    "</table>"
   ]
  },
  {
   "cell_type": "code",
   "execution_count": 1,
   "metadata": {},
   "outputs": [
    {
     "data": {
      "text/plain": [
       "('1.23', str)"
      ]
     },
     "execution_count": 1,
     "metadata": {},
     "output_type": "execute_result"
    }
   ],
   "source": [
    "# Problem: Using format will return a string, not a float\n",
    "a = format(1.23456, '.2f')\n",
    "a, type(a)"
   ]
  },
  {
   "cell_type": "code",
   "execution_count": 2,
   "metadata": {},
   "outputs": [
    {
     "data": {
      "text/plain": [
       "(1.23, float)"
      ]
     },
     "execution_count": 2,
     "metadata": {},
     "output_type": "execute_result"
    }
   ],
   "source": [
    "# Solution: Use round instead\n",
    "a = round(1.23456, 2) # round(number, digits_to_keep)\n",
    "a, type(a)"
   ]
  },
  {
   "cell_type": "code",
   "execution_count": 3,
   "metadata": {},
   "outputs": [
    {
     "name": "stdout",
     "output_type": "stream",
     "text": [
      "b > a\n"
     ]
    }
   ],
   "source": [
    "# Problem: if else logic\n",
    "# You can have multiple elif statements, like this:\n",
    "a = 1\n",
    "b = 2\n",
    "c = 3\n",
    "if a > b:\n",
    "    print('b > c')\n",
    "elif a > c:\n",
    "    print('a > c')\n",
    "elif b > a:\n",
    "    print('b > a')\n",
    "elif c < b:\n",
    "    print('c < b')"
   ]
  },
  {
   "cell_type": "markdown",
   "metadata": {},
   "source": [
    "```python\n",
    "# Solution: replace your (else: if) with another (elif:)\n",
    "# instead of this\n",
    "else:\n",
    "    if side1 != side2 != side3:\n",
    "        print('this is a scalene triangle')\n",
    "        \n",
    "# use this\n",
    "elif side1 != side2 != side3:\n",
    "        print('this is a scalene triangle')\n",
    "```"
   ]
  },
  {
   "cell_type": "markdown",
   "metadata": {},
   "source": [
    "<table><tr>\n",
    "<td> <img src=\"birthday.jpg\" alt=\"Drawing\" style=\"width: 500px;\"/> </td>\n",
    "<td> <img src=\"birthday-code.jpg\" alt=\"Drawing\" style=\"width: 500px;\"/> </td>\n",
    "</tr></table>\n",
    "\n"
   ]
  },
  {
   "cell_type": "code",
   "execution_count": 4,
   "metadata": {},
   "outputs": [],
   "source": [
    "# The instructions say to use booleans \"to store whether Date A and Date B are valid\"\n",
    "# Here is an example:\n",
    "# I tried to keep it as simple as possible, since I'm not sure what you have learned\n",
    "# You can make it cleaner by using a function or loop to validate the date instead of repeating code\n",
    "\n",
    "month_A = 1 # assume the user enters these values\n",
    "month_B = 1\n",
    "day_A = 1\n",
    "day_B = 1\n",
    "year_A = 2000\n",
    "year_B = 2000\n",
    "\n",
    "is_date_A_valid = True # assume the dates are valid\n",
    "is_date_B_valid = True\n",
    "\n",
    "# list of how many days in each month\n",
    "# january (first month, index 0) has 31 days\n",
    "days_in_month = [31, 29, 31, 30, 29, 30, 31, 31, 30, 30, 30, 31] \n",
    "    \n",
    "if year_A < 0 or month_A < 1 or month_A > 12: # make sure year and month are valid\n",
    "    is_date_A_valid = False # if invalid, set boolean to False\n",
    "else:   \n",
    "    max_days = days_in_month[month_A - 1] # get max days\n",
    "                                        # if month is jan, user entered 1, but index is 0, so you subtract 1\n",
    "    if day_A < 1 or day_A > max_days: # make sure day is valid\n",
    "        is_date_A_valid = False\n",
    "\n",
    "if year_B < 0 or month_B < 1 or month_B > 12: # same checks for date B\n",
    "    is_date_B_valid = False\n",
    "else:   \n",
    "    max_days = days_in_month[month_B - 1]\n",
    "    if day_B < 1 or day_B > max_days:\n",
    "        is_date_B_valid = False\n",
    "\n",
    "# you should be able to implement comparing the dates to find the older person"
   ]
  }
 ],
 "metadata": {
  "kernelspec": {
   "display_name": "Python 3",
   "language": "python",
   "name": "python3"
  },
  "language_info": {
   "codemirror_mode": {
    "name": "ipython",
    "version": 3
   },
   "file_extension": ".py",
   "mimetype": "text/x-python",
   "name": "python",
   "nbconvert_exporter": "python",
   "pygments_lexer": "ipython3",
   "version": "3.7.3"
  }
 },
 "nbformat": 4,
 "nbformat_minor": 4
}
